version https://git-lfs.github.com/spec/v1
oid sha256:6f48d50de64a77cb0f48ff7b5a7dc2c925a3eb508962fa1657701912f5bf6040
size 381284
